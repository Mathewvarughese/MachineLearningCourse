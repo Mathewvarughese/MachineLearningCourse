{
 "cells": [
  {
   "cell_type": "code",
   "execution_count": 4,
   "metadata": {},
   "outputs": [
    {
     "name": "stdout",
     "output_type": "stream",
     "text": [
      "Collecting seaborn\n",
      "  Using cached https://files.pythonhosted.org/packages/a8/76/220ba4420459d9c4c9c9587c6ce607bf56c25b3d3d2de62056efe482dadc/seaborn-0.9.0-py3-none-any.whl\n",
      "Requirement already satisfied: scipy>=0.14.0 in c:\\users\\mattv\\anaconda3\\envs\\tensorflow\\lib\\site-packages (from seaborn) (1.2.1)\n",
      "Requirement already satisfied: pandas>=0.15.2 in c:\\users\\mattv\\anaconda3\\envs\\tensorflow\\lib\\site-packages (from seaborn) (0.24.1)\n",
      "Requirement already satisfied: numpy>=1.9.3 in c:\\users\\mattv\\anaconda3\\envs\\tensorflow\\lib\\site-packages (from seaborn) (1.16.2)\n",
      "Requirement already satisfied: matplotlib>=1.4.3 in c:\\users\\mattv\\anaconda3\\envs\\tensorflow\\lib\\site-packages (from seaborn) (3.0.3)\n",
      "Requirement already satisfied: pytz>=2011k in c:\\users\\mattv\\anaconda3\\envs\\tensorflow\\lib\\site-packages (from pandas>=0.15.2->seaborn) (2018.9)\n",
      "Requirement already satisfied: python-dateutil>=2.5.0 in c:\\users\\mattv\\anaconda3\\envs\\tensorflow\\lib\\site-packages (from pandas>=0.15.2->seaborn) (2.8.0)\n",
      "Requirement already satisfied: cycler>=0.10 in c:\\users\\mattv\\anaconda3\\envs\\tensorflow\\lib\\site-packages (from matplotlib>=1.4.3->seaborn) (0.10.0)\n",
      "Requirement already satisfied: kiwisolver>=1.0.1 in c:\\users\\mattv\\anaconda3\\envs\\tensorflow\\lib\\site-packages (from matplotlib>=1.4.3->seaborn) (1.0.1)\n",
      "Requirement already satisfied: pyparsing!=2.0.4,!=2.1.2,!=2.1.6,>=2.0.1 in c:\\users\\mattv\\anaconda3\\envs\\tensorflow\\lib\\site-packages (from matplotlib>=1.4.3->seaborn) (2.3.1)\n",
      "Requirement already satisfied: six>=1.5 in c:\\users\\mattv\\anaconda3\\envs\\tensorflow\\lib\\site-packages (from python-dateutil>=2.5.0->pandas>=0.15.2->seaborn) (1.12.0)\n",
      "Requirement already satisfied: setuptools in c:\\users\\mattv\\anaconda3\\envs\\tensorflow\\lib\\site-packages (from kiwisolver>=1.0.1->matplotlib>=1.4.3->seaborn) (40.8.0)\n",
      "Installing collected packages: seaborn\n",
      "Successfully installed seaborn-0.9.0\n",
      "Note: you may need to restart the kernel to use updated packages.\n"
     ]
    }
   ],
   "source": [
    "pip install seaborn"
   ]
  },
  {
   "cell_type": "code",
   "execution_count": 11,
   "metadata": {},
   "outputs": [],
   "source": [
    "import matplotlib.pyplot as plt # side-stepping mpl backend\n",
    "import numpy as np # linear algebra\n",
    "import pandas as pd # data processing, CSV file I/O (e.g. pd.read_csv)\n",
    "import seaborn as sns\n",
    "\n",
    "from sklearn import preprocessing, metrics\n",
    "from sklearn.linear_model import LogisticRegression\n",
    "from sklearn.model_selection import KFold, train_test_split, cross_val_score\n"
   ]
  },
  {
   "cell_type": "code",
   "execution_count": 12,
   "metadata": {},
   "outputs": [
    {
     "ename": "SyntaxError",
     "evalue": "(unicode error) 'unicodeescape' codec can't decode bytes in position 2-3: truncated \\UXXXXXXXX escape (<ipython-input-12-89b6a81e92ec>, line 2)",
     "output_type": "error",
     "traceback": [
      "\u001b[1;36m  File \u001b[1;32m\"<ipython-input-12-89b6a81e92ec>\"\u001b[1;36m, line \u001b[1;32m2\u001b[0m\n\u001b[1;33m    for dirname, _, filenames in os.walk(\"C:\\Users\\mattv\\Mathew\\Digital Transformation Technologies\\ARTIFICIAL INTELLIGENCE\\Siraj\\10 Weeks Course on ML\\Week3 - CyberSecurity\\Homework - Week3\"):\u001b[0m\n\u001b[1;37m                                        ^\u001b[0m\n\u001b[1;31mSyntaxError\u001b[0m\u001b[1;31m:\u001b[0m (unicode error) 'unicodeescape' codec can't decode bytes in position 2-3: truncated \\UXXXXXXXX escape\n"
     ]
    }
   ],
   "source": [
    "import os\n",
    "for dirname, _, filenames in os.walk(\"..\\Week3 - CyberSecurity\\Homework - Week3\"):\n",
    "    for filename in filenames:\n",
    "        print(os.path.join(dirname, filename))\n",
    "\n",
    "# Any results you write to the current directory are saved as output."
   ]
  },
  {
   "cell_type": "code",
   "execution_count": 13,
   "metadata": {},
   "outputs": [
    {
     "name": "stdout",
     "output_type": "stream",
     "text": [
      "Categorical Columns: ['ProductCD', 'card1', 'card2', 'card3', 'card4', 'card5', 'card6', 'addr1', 'addr2', 'P_emaildomain', 'R_emaildomain', 'M1', 'M2', 'M3', 'M4', 'M5', 'M6', 'M7', 'M8', 'M9', 'DeviceType', 'DeviceInfo', 'id_12', 'id_13', 'id_14', 'id_15', 'id_16', 'id_17', 'id_18', 'id_19', 'id_20', 'id_21', 'id_22', 'id_23', 'id_24', 'id_25', 'id_26', 'id_27', 'id_28', 'id_29', 'id_30', 'id_31', 'id_32', 'id_33', 'id_34', 'id_35', 'id_36', 'id_37', 'id_38']\n",
      "ID Columns: ['TransactionID', 'TransactionDT']\n"
     ]
    }
   ],
   "source": [
    "def create_col_name(base_str, start_int, end_int):\n",
    "    return [base_str + str(i) for i in range(start_int, end_int+1)]\n",
    "\n",
    "cat_cols = (['ProductCD'] + create_col_name('card', 1, 6) + ['addr1', 'addr2', 'P_emaildomain', 'R_emaildomain'] + \n",
    "            create_col_name('M', 1, 9) + ['DeviceType', 'DeviceInfo'] + create_col_name('id_', 12, 38))\n",
    "\n",
    "id_cols = ['TransactionID', 'TransactionDT']\n",
    "\n",
    "target = 'isFraud'\n",
    "\n",
    "print('Categorical Columns:', cat_cols)\n",
    "print('ID Columns:', id_cols)"
   ]
  },
  {
   "cell_type": "code",
   "execution_count": 14,
   "metadata": {},
   "outputs": [],
   "source": [
    "#Creating Dataframes\n",
    "dataframe_identity_train = pd.read_csv('./train_identity.csv')\n",
    "dataframe_transaction_train = pd.read_csv('../ieee-fraud-detection/train_transaction.csv')\n",
    "dataframe_transaction_test = pd.read_csv('../ieee-fraud-detection/test_transaction.csv')\n",
    "dataframe_identity_test = pd.read_csv('../ieee-fraud-detection/test_identity.csv')"
   ]
  },
  {
   "cell_type": "code",
   "execution_count": 15,
   "metadata": {},
   "outputs": [
    {
     "name": "stdout",
     "output_type": "stream",
     "text": [
      "Identity shape: (144233, 41)\n",
      "Transaction shape: (590540, 394)\n",
      "Test Identity shape: (141907, 41)\n",
      "Test Transaction shape: (506691, 393)\n"
     ]
    }
   ],
   "source": [
    "print('Identity shape:',dataframe_identity_train.shape)\n",
    "print('Transaction shape:',dataframe_transaction_train.shape)\n",
    "print('Test Identity shape:',dataframe_identity_test.shape)\n",
    "print('Test Transaction shape:',dataframe_transaction_test.shape)"
   ]
  },
  {
   "cell_type": "code",
   "execution_count": 16,
   "metadata": {},
   "outputs": [
    {
     "name": "stdout",
     "output_type": "stream",
     "text": [
      "df_train Shape: (590540, 434)\n"
     ]
    }
   ],
   "source": [
    "df_train = dataframe_transaction_train.merge(dataframe_identity_train, on='TransactionID', how='left')\n",
    "print('df_train Shape:', df_train.shape)"
   ]
  },
  {
   "cell_type": "code",
   "execution_count": 17,
   "metadata": {},
   "outputs": [
    {
     "name": "stdout",
     "output_type": "stream",
     "text": [
      "df_test Shape: (506691, 433)\n"
     ]
    }
   ],
   "source": [
    "df_test = dataframe_transaction_test.merge(dataframe_identity_test, on='TransactionID', how='left')\n",
    "print('df_test Shape:', df_test.shape)"
   ]
  },
  {
   "cell_type": "code",
   "execution_count": 18,
   "metadata": {},
   "outputs": [],
   "source": [
    "del dataframe_transaction_train, dataframe_identity_train\n",
    "del dataframe_transaction_test, dataframe_identity_test"
   ]
  },
  {
   "cell_type": "code",
   "execution_count": 19,
   "metadata": {},
   "outputs": [
    {
     "data": {
      "text/plain": [
       "Text(0, 0.5, 'Frequency')"
      ]
     },
     "execution_count": 19,
     "metadata": {},
     "output_type": "execute_result"
    },
    {
     "data": {
      "image/png": "[encoded data removed]",
      "text/plain": [
       "<Figure size 432x288 with 1 Axes>"
      ]
     },
     "metadata": {
      "needs_background": "light"
     },
     "output_type": "display_data"
    }
   ],
   "source": [
    "count_classes = pd.value_counts(df_train['isFraud'], sort = True).sort_index()\n",
    "count_classes.plot(kind = 'BAR')\n",
    "plt.title(\"Fraud class histogram\")\n",
    "plt.xlabel(\"Class\")\n",
    "plt.ylabel(\"Frequency\")"
   ]
  },
  {
   "cell_type": "code",
   "execution_count": 20,
   "metadata": {},
   "outputs": [
    {
     "data": {
      "image/png": "[encoded data removed]",
      "text/plain": [
       "<Figure size 1296x432 with 1 Axes>"
      ]
     },
     "metadata": {},
     "output_type": "display_data"
    }
   ],
   "source": [
    "fig = plt.figure(figsize=(18, 6), facecolor='w')\n",
    "sns.boxplot(x='isFraud', y='TransactionAmt', data=df_train)\n",
    "plt.show()"
   ]
  },
  {
   "cell_type": "code",
   "execution_count": 21,
   "metadata": {},
   "outputs": [
    {
     "data": {
      "image/png": "[encoded data removed]",
      "text/plain": [
       "<Figure size 1296x432 with 1 Axes>"
      ]
     },
     "metadata": {},
     "output_type": "display_data"
    }
   ],
   "source": [
    "fig = plt.figure(figsize=(18, 6), facecolor='w')\n",
    "sns.distplot(df_train['TransactionAmt'])\n",
    "plt.show()"
   ]
  },
  {
   "cell_type": "code",
   "execution_count": 22,
   "metadata": {},
   "outputs": [],
   "source": [
    "def plot_hist(train, colname):\n",
    "    _train_0 = train[train['isFraud'] == 0].reset_index(drop=False)\n",
    "    _train_1 = train[train['isFraud'] == 1].reset_index(drop=False)\n",
    "    \n",
    "    fig = plt.figure(figsize=(12, 4), facecolor='w')\n",
    "    ax = sns.kdeplot(_train_0[colname], color='b', alpha=0.4, shade=True)\n",
    "    ax_2 = ax.twinx()\n",
    "    sns.kdeplot(_train_1[colname], color='r', alpha=0.4, shade=True, ax=ax_2)\n",
    "    ax.set_title(colname)\n",
    "    plt.show()\n",
    "\n",
    "   "
   ]
  },
  {
   "cell_type": "code",
   "execution_count": 24,
   "metadata": {},
   "outputs": [],
   "source": [
    "# source https://www.kaggle.com/krishonaveen/xtreme-boost-and-feature-engineering\n",
    "def reduce_mem_usage(df, verbose=True):\n",
    "    numerics = ['int16', 'int32', 'int64', 'float16', 'float32', 'float64']\n",
    "    start_mem = df.memory_usage().sum() / 1024**2    \n",
    "    for col in df.columns:\n",
    "        col_type = df[col].dtypes\n",
    "        if col_type in numerics:\n",
    "            c_min = df[col].min()\n",
    "            c_max = df[col].max()\n",
    "            if str(col_type)[:3] == 'int':\n",
    "                if c_min > np.iinfo(np.int8).min and c_max < np.iinfo(np.int8).max:\n",
    "                    df[col] = df[col].astype(np.int8)\n",
    "                elif c_min > np.iinfo(np.int16).min and c_max < np.iinfo(np.int16).max:\n",
    "                    df[col] = df[col].astype(np.int16)\n",
    "                elif c_min > np.iinfo(np.int32).min and c_max < np.iinfo(np.int32).max:\n",
    "                    df[col] = df[col].astype(np.int32)\n",
    "                elif c_min > np.iinfo(np.int64).min and c_max < np.iinfo(np.int64).max:\n",
    "                    df[col] = df[col].astype(np.int64)  \n",
    "            else:\n",
    "                if c_min > np.finfo(np.float16).min and c_max < np.finfo(np.float16).max:\n",
    "                    df[col] = df[col].astype(np.float16)\n",
    "                elif c_min > np.finfo(np.float32).min and c_max < np.finfo(np.float32).max:\n",
    "                    df[col] = df[col].astype(np.float32)\n",
    "                else:\n",
    "                    df[col] = df[col].astype(np.float64)    \n",
    "    end_mem = df.memory_usage().sum() / 1024**2\n",
    "    if verbose: print('Mem. usage decreased to {:5.2f} Mb ({:.1f}% reduction)'.format(end_mem, 100 * (start_mem - end_mem) / start_mem))\n",
    "    return df"
   ]
  },
  {
   "cell_type": "code",
   "execution_count": 25,
   "metadata": {},
   "outputs": [
    {
     "name": "stdout",
     "output_type": "stream",
     "text": [
      "Mem. usage decreased to 670.48 Mb (66.1% reduction)\n"
     ]
    }
   ],
   "source": [
    "df_train = reduce_mem_usage(df_train,True)"
   ]
  },
  {
   "cell_type": "code",
   "execution_count": 26,
   "metadata": {},
   "outputs": [
    {
     "data": {
      "text/plain": [
       "2590"
      ]
     },
     "execution_count": 26,
     "metadata": {},
     "output_type": "execute_result"
    }
   ],
   "source": [
    "import gc\n",
    "\n",
    "gc.collect()"
   ]
  },
  {
   "cell_type": "code",
   "execution_count": 27,
   "metadata": {},
   "outputs": [
    {
     "name": "stdout",
     "output_type": "stream",
     "text": [
      "['dist2', 'D7', 'id_07', 'id_08', 'id_18', 'id_21', 'id_22', 'id_23', 'id_24', 'id_25', 'id_26', 'id_27']\n"
     ]
    }
   ],
   "source": [
    "many_null_cols = [col for col in df_train.columns if df_train[col].isnull().sum() / df_train.shape[0] > 0.90]\n",
    "print(many_null_cols)"
   ]
  },
  {
   "cell_type": "code",
   "execution_count": 28,
   "metadata": {},
   "outputs": [
    {
     "name": "stdout",
     "output_type": "stream",
     "text": [
      "Shape before drop: (590540, 434)\n",
      "Shape after drop: (590540, 422)\n",
      "['card3', 'addr2', 'C3', 'C7', 'D12', 'D13', 'D14', 'V98', 'V101', 'V102', 'V103', 'V104', 'V105', 'V106', 'V107', 'V108', 'V109', 'V110', 'V111', 'V112', 'V113', 'V114', 'V115', 'V116', 'V117', 'V118', 'V119', 'V120', 'V121', 'V122', 'V123', 'V124', 'V125', 'V129', 'V132', 'V133', 'V134', 'V135', 'V136', 'V137', 'V281', 'V284', 'V286', 'V290', 'V292', 'V293', 'V295', 'V296', 'V297', 'V298', 'V299', 'V300', 'V301', 'V305', 'V309', 'V311', 'V316', 'V318', 'V319', 'V320', 'V321', 'id_03', 'id_04']\n"
     ]
    }
   ],
   "source": [
    "print('Shape before drop:', df_train.shape)\n",
    "df_train = df_train.drop(many_null_cols, axis = 1)\n",
    "print('Shape after drop:',df_train.shape)\n",
    "\n",
    "big_top_value_cols = [col for col in df_train.columns if df_train[col].value_counts(dropna=False, normalize=True).values[0] > 0.88]\n",
    "big_top_value_cols.remove('isFraud')\n",
    "df_train = df_train.drop(big_top_value_cols, axis = 1)\n",
    "print(big_top_value_cols)"
   ]
  },
  {
   "cell_type": "code",
   "execution_count": 29,
   "metadata": {},
   "outputs": [],
   "source": [
    "df_test = df_test.drop(many_null_cols, axis = 1)\n",
    "df_test = df_test.drop(big_top_value_cols, axis = 1)"
   ]
  },
  {
   "cell_type": "code",
   "execution_count": 30,
   "metadata": {},
   "outputs": [
    {
     "name": "stdout",
     "output_type": "stream",
     "text": [
      "label encoding ProductCD\n",
      "label encoding card4\n",
      "label encoding card6\n",
      "label encoding P_emaildomain\n",
      "label encoding R_emaildomain\n",
      "label encoding M1\n",
      "label encoding M2\n",
      "label encoding M3\n",
      "label encoding M4\n",
      "label encoding M5\n",
      "label encoding M6\n",
      "label encoding M7\n",
      "label encoding M8\n",
      "label encoding M9\n",
      "label encoding id_12\n",
      "label encoding id_15\n",
      "label encoding id_16\n",
      "label encoding id_28\n",
      "label encoding id_29\n",
      "label encoding id_30\n",
      "label encoding id_31\n",
      "label encoding id_33\n",
      "label encoding id_34\n",
      "label encoding id_35\n",
      "label encoding id_36\n",
      "label encoding id_37\n",
      "label encoding id_38\n",
      "label encoding DeviceType\n",
      "label encoding DeviceInfo\n"
     ]
    }
   ],
   "source": [
    "from sklearn  import preprocessing\n",
    "for col in df_train.columns:\n",
    "    if df_train[col].dtype=='object' :\n",
    "        print(\"label encoding\",col)\n",
    "        lbl = preprocessing.LabelEncoder()\n",
    "        lbl.fit(list(df_train[col].values))\n",
    "        df_train[col] =lbl.transform(list(df_train[col].values))"
   ]
  },
  {
   "cell_type": "code",
   "execution_count": 32,
   "metadata": {},
   "outputs": [
    {
     "name": "stdout",
     "output_type": "stream",
     "text": [
      "label encoding ProductCD\n",
      "label encoding card4\n",
      "label encoding card6\n",
      "label encoding P_emaildomain\n",
      "label encoding R_emaildomain\n",
      "label encoding M1\n",
      "label encoding M2\n",
      "label encoding M3\n",
      "label encoding M4\n",
      "label encoding M5\n",
      "label encoding M6\n",
      "label encoding M7\n",
      "label encoding M8\n",
      "label encoding M9\n",
      "label encoding id_12\n",
      "label encoding id_15\n",
      "label encoding id_16\n",
      "label encoding id_28\n",
      "label encoding id_29\n",
      "label encoding id_30\n",
      "label encoding id_31\n",
      "label encoding id_33\n",
      "label encoding id_34\n",
      "label encoding id_35\n",
      "label encoding id_36\n",
      "label encoding id_37\n",
      "label encoding id_38\n",
      "label encoding DeviceType\n",
      "label encoding DeviceInfo\n"
     ]
    }
   ],
   "source": [
    "from sklearn  import preprocessing\n",
    "for col in df_test.columns:\n",
    "    if df_test[col].dtype=='object' :\n",
    "        print(\"label encoding\",col)\n",
    "        lbl = preprocessing.LabelEncoder()\n",
    "        lbl.fit(list(df_test[col].values))\n",
    "        df_test[col] =lbl.transform(list(df_test[col].values))\n"
   ]
  },
  {
   "cell_type": "code",
   "execution_count": 33,
   "metadata": {},
   "outputs": [],
   "source": [
    "def clean_inf_nan(df):\n",
    "    return df.replace([np.inf, -np.inf], np.nan)   \n",
    "\n",
    "# Cleaning infinite values to NaN\n",
    "df_train = clean_inf_nan(df_train)\n",
    "df_test = clean_inf_nan(df_test) # replace all nan,inf,-inf to nan so it will be easy to replace\n",
    "\n",
    "for i in df_train.columns:\n",
    "    df_train[i].fillna(df_train[i].median(),inplace=True) # fill with median because mean may be affect by outliers.\n",
    "for i in df_test.columns:\n",
    "    df_test[i].fillna(df_test[i].median(),inplace=True)"
   ]
  },
  {
   "cell_type": "code",
   "execution_count": 34,
   "metadata": {},
   "outputs": [],
   "source": [
    "# now we can split the data and train our model\n",
    "X = df_train.drop(['isFraud', 'TransactionDT', 'TransactionID'], axis=1)\n",
    "y = df_train['isFraud']\n",
    "#X_test = test.sort_values('TransactionDT').drop(['TransactionDT', 'TransactionID'], axis=1)\n",
    "X_test = df_test.drop(['TransactionDT', 'TransactionID'], axis=1)\n",
    "#del train\n",
    "test = df_test[['TransactionID']]\n"
   ]
  },
  {
   "cell_type": "code",
   "execution_count": 35,
   "metadata": {},
   "outputs": [],
   "source": [
    "from sklearn.model_selection import train_test_split\n",
    "xTrain, xTest, yTrain, yTest = train_test_split(X, y, test_size = 0.15, random_state = 0)"
   ]
  },
  {
   "cell_type": "code",
   "execution_count": 36,
   "metadata": {},
   "outputs": [
    {
     "name": "stderr",
     "output_type": "stream",
     "text": [
      "C:\\Users\\mattv\\Anaconda3\\envs\\tensorflow\\lib\\site-packages\\sklearn\\preprocessing\\data.py:334: DataConversionWarning: Data with input dtype int64, float16, float32 were all converted to float64 by MinMaxScaler.\n",
      "  return self.partial_fit(X, y)\n"
     ]
    }
   ],
   "source": [
    "from sklearn.preprocessing import MinMaxScaler\n",
    "\n",
    "scaler = MinMaxScaler(feature_range = (0,1))\n",
    "\n",
    "scaler.fit(xTrain)\n",
    "xTrain = scaler.transform(xTrain)\n",
    "xTest = scaler.transform(xTest)"
   ]
  },
  {
   "cell_type": "code",
   "execution_count": 37,
   "metadata": {},
   "outputs": [
    {
     "data": {
      "text/plain": [
       "LogisticRegression(C=1.0, class_weight={0: 0.85}, dual=False,\n",
       "          fit_intercept=True, intercept_scaling=1, max_iter=1000,\n",
       "          multi_class='warn', n_jobs=None, penalty='l2', random_state=None,\n",
       "          solver='lbfgs', tol=0.0001, verbose=0, warm_start=False)"
      ]
     },
     "execution_count": 37,
     "metadata": {},
     "output_type": "execute_result"
    }
   ],
   "source": [
    "from sklearn.linear_model import LogisticRegression\n",
    "model = LogisticRegression(solver='lbfgs', max_iter=1000, class_weight={0:0.85})\n",
    "model.fit(xTrain, yTrain)"
   ]
  },
  {
   "cell_type": "code",
   "execution_count": 38,
   "metadata": {},
   "outputs": [
    {
     "name": "stdout",
     "output_type": "stream",
     "text": [
      "              precision    recall  f1-score   support\n",
      "\n",
      "           0       0.97      1.00      0.99     85551\n",
      "           1       0.82      0.22      0.35      3030\n",
      "\n",
      "   micro avg       0.97      0.97      0.97     88581\n",
      "   macro avg       0.90      0.61      0.67     88581\n",
      "weighted avg       0.97      0.97      0.96     88581\n",
      "\n",
      "Logistic Score: 0.9717207979137739\n"
     ]
    }
   ],
   "source": [
    "from sklearn.metrics import classification_report\n",
    "\n",
    "y_pred = model.predict(xTest)\n",
    "  \n",
    "print(classification_report(yTest, y_pred))\n",
    "\n",
    "print('Logistic Score:', model.score(xTest,yTest))"
   ]
  },
  {
   "cell_type": "code",
   "execution_count": 39,
   "metadata": {},
   "outputs": [
    {
     "name": "stderr",
     "output_type": "stream",
     "text": [
      "C:\\Users\\mattv\\Anaconda3\\envs\\tensorflow\\lib\\site-packages\\sklearn\\preprocessing\\data.py:334: DataConversionWarning: Data with input dtype int64, float64 were all converted to float64 by MinMaxScaler.\n",
      "  return self.partial_fit(X, y)\n"
     ]
    },
    {
     "name": "stdout",
     "output_type": "stream",
     "text": [
      "{'fraud': 7967, 'not_fraud': 498725}\n"
     ]
    }
   ],
   "source": [
    "import csv\n",
    "\n",
    "scaler.fit(X_test)\n",
    "X_test = scaler.transform(X_test)\n",
    "\n",
    "y_sub_predict = model.predict_proba(X_test)\n",
    "\n",
    "csv_data = [['TransactionID', 'isFraud']]\n",
    "\n",
    "fraud_dict = { 'fraud': 1, 'not_fraud': 0 }\n",
    "\n",
    "for i in range(0, len(y_sub_predict)):\n",
    "    csv_data.append([df_test['TransactionID'][i], y_sub_predict[i][1]])\n",
    "    if y_sub_predict[i][1] >= 0.5:\n",
    "        fraud_dict['fraud'] += 1\n",
    "    else:\n",
    "        fraud_dict['not_fraud'] += 1\n",
    "print(fraud_dict)"
   ]
  },
  {
   "cell_type": "code",
   "execution_count": 40,
   "metadata": {},
   "outputs": [],
   "source": [
    "with open('submission.csv', 'w') as csv_file:\n",
    "    writer = csv.writer(csv_file)\n",
    "    writer.writerows(csv_data)\n",
    "\n",
    "csv_file.close()"
   ]
  },
  {
   "cell_type": "code",
   "execution_count": null,
   "metadata": {},
   "outputs": [],
   "source": []
  }
 ],
 "metadata": {
  "kernelspec": {
   "display_name": "Python 3.6 (tendorflow)",
   "language": "python",
   "name": "tensorflow"
  },
  "language_info": {
   "codemirror_mode": {
    "name": "ipython",
    "version": 3
   },
   "file_extension": ".py",
   "mimetype": "text/x-python",
   "name": "python",
   "nbconvert_exporter": "python",
   "pygments_lexer": "ipython3",
   "version": "3.6.8"
  }
 },
 "nbformat": 4,
 "nbformat_minor": 2
}
